{
  "nbformat": 4,
  "nbformat_minor": 0,
  "metadata": {
    "colab": {
      "provenance": []
    },
    "kernelspec": {
      "name": "python3",
      "display_name": "Python 3"
    },
    "language_info": {
      "name": "python"
    }
  },
  "cells": [
    {
      "cell_type": "code",
      "source": [
        "!pip install langgraph -q"
      ],
      "metadata": {
        "colab": {
          "base_uri": "https://localhost:8080/"
        },
        "id": "1l3IDTotLQfT",
        "outputId": "09efc451-00e7-4677-850f-184dbabc37ed"
      },
      "execution_count": null,
      "outputs": [
        {
          "output_type": "stream",
          "name": "stdout",
          "text": [
            "\u001b[2K     \u001b[90m━━━━━━━━━━━━━━━━━━━━━━━━━━━━━━━━━━━━━━━━\u001b[0m \u001b[32m43.7/43.7 kB\u001b[0m \u001b[31m1.5 MB/s\u001b[0m eta \u001b[36m0:00:00\u001b[0m\n",
            "\u001b[2K   \u001b[90m━━━━━━━━━━━━━━━━━━━━━━━━━━━━━━━━━━━━━━━━\u001b[0m \u001b[32m154.9/154.9 kB\u001b[0m \u001b[31m6.1 MB/s\u001b[0m eta \u001b[36m0:00:00\u001b[0m\n",
            "\u001b[2K   \u001b[90m━━━━━━━━━━━━━━━━━━━━━━━━━━━━━━━━━━━━━━━━\u001b[0m \u001b[32m44.2/44.2 kB\u001b[0m \u001b[31m1.6 MB/s\u001b[0m eta \u001b[36m0:00:00\u001b[0m\n",
            "\u001b[2K   \u001b[90m━━━━━━━━━━━━━━━━━━━━━━━━━━━━━━━━━━━━━━━━\u001b[0m \u001b[32m50.0/50.0 kB\u001b[0m \u001b[31m2.7 MB/s\u001b[0m eta \u001b[36m0:00:00\u001b[0m\n",
            "\u001b[2K   \u001b[90m━━━━━━━━━━━━━━━━━━━━━━━━━━━━━━━━━━━━━━━━\u001b[0m \u001b[32m216.5/216.5 kB\u001b[0m \u001b[31m11.4 MB/s\u001b[0m eta \u001b[36m0:00:00\u001b[0m\n",
            "\u001b[?25h"
          ]
        }
      ]
    },
    {
      "cell_type": "markdown",
      "source": [
        "### Simple Graph ( Single input + Multiple inputs )"
      ],
      "metadata": {
        "id": "sBW8sjXBKC2R"
      }
    },
    {
      "cell_type": "code",
      "execution_count": null,
      "metadata": {
        "id": "lKd8qcPaBUDo"
      },
      "outputs": [],
      "source": [
        "from typing import TypedDict\n",
        "from langgraph.graph import StateGraph, START, END"
      ]
    },
    {
      "cell_type": "code",
      "source": [
        "class AgentState(TypedDict):\n",
        "    name : str\n",
        "    message : str\n",
        "\n",
        "# class AgentState(TypedDict):\n",
        "#     name : str\n",
        "#     age : int\n",
        "#     message : str\n",
        "\n",
        "def introduce(state: AgentState) -> AgentState:\n",
        "    state['message'] = f\"\"\"My name is {state[\"name\"]}.\"\"\"\n",
        "    return state\n",
        "\n",
        "# def introduce(state: AgentState) -> AgentState:\n",
        "#     state['message'] = f\"\"\"My name is {state[\"name\"]}. I'm {state[\"age\"]} years old.\"\"\"\n",
        "#     return state"
      ],
      "metadata": {
        "id": "tW5h_rIUDJG2"
      },
      "execution_count": null,
      "outputs": []
    },
    {
      "cell_type": "code",
      "source": [
        "workflow = StateGraph(AgentState)\n",
        "\n",
        "workflow.add_node(\"introduce\", introduce)\n",
        "\n",
        "workflow.add_edge( START, \"introduce\" )\n",
        "workflow.add_edge( \"introduce\", END )\n",
        "\n",
        "app = workflow.compile()"
      ],
      "metadata": {
        "id": "d6GBT2KADuOv"
      },
      "execution_count": null,
      "outputs": []
    },
    {
      "cell_type": "code",
      "source": [
        "from IPython.display import Image, display\n",
        "display(Image(app.get_graph().draw_mermaid_png()))"
      ],
      "metadata": {
        "id": "EO0G3gZcE3wT",
        "colab": {
          "base_uri": "https://localhost:8080/",
          "height": 251
        },
        "outputId": "d298063f-b3ba-43b1-ab99-272dbe05555a"
      },
      "execution_count": null,
      "outputs": [
        {
          "output_type": "display_data",
          "data": {
            "image/png": "[encoded data removed]",
            "text/plain": [
              "<IPython.core.display.Image object>"
            ]
          },
          "metadata": {}
        }
      ]
    },
    {
      "cell_type": "code",
      "source": [
        "result = app.invoke({\"name\": \"kamal\"})\n",
        "print(result)"
      ],
      "metadata": {
        "colab": {
          "base_uri": "https://localhost:8080/"
        },
        "id": "0OuJ_Wje2or0",
        "outputId": "d210eee9-13ad-49dc-dc14-b6789bec80ff"
      },
      "execution_count": null,
      "outputs": [
        {
          "output_type": "stream",
          "name": "stdout",
          "text": [
            "{'name': 'kamal', 'message': 'My name is kamal.'}\n"
          ]
        }
      ]
    },
    {
      "cell_type": "code",
      "source": [
        "print(result[\"message\"])"
      ],
      "metadata": {
        "colab": {
          "base_uri": "https://localhost:8080/"
        },
        "id": "tXbLbOhv2siT",
        "outputId": "bd22c776-49ad-4ab5-b295-c607bd55eb10"
      },
      "execution_count": null,
      "outputs": [
        {
          "output_type": "stream",
          "name": "stdout",
          "text": [
            "My name is kamal.\n"
          ]
        }
      ]
    },
    {
      "cell_type": "code",
      "source": [
        "# result = app.invoke({\"name\": \"kamal\", \"age\":20})\n",
        "# print(result)"
      ],
      "metadata": {
        "id": "QeAR2HrBGgTt"
      },
      "execution_count": null,
      "outputs": []
    },
    {
      "cell_type": "code",
      "source": [
        "# print(result[\"message\"])"
      ],
      "metadata": {
        "id": "XMeX1_HZGonk"
      },
      "execution_count": null,
      "outputs": []
    },
    {
      "cell_type": "markdown",
      "source": [
        "### Sequential Graph"
      ],
      "metadata": {
        "id": "mJoYtliZKLo4"
      }
    },
    {
      "cell_type": "code",
      "source": [
        "from typing import TypedDict\n",
        "from langgraph.graph import StateGraph"
      ],
      "metadata": {
        "id": "uNXcDgJxGvac"
      },
      "execution_count": null,
      "outputs": []
    },
    {
      "cell_type": "code",
      "source": [
        "class AgentState(TypedDict):\n",
        "    name: str\n",
        "    age: int\n",
        "    message: str"
      ],
      "metadata": {
        "id": "I8_xC5z4LZKD"
      },
      "execution_count": null,
      "outputs": []
    },
    {
      "cell_type": "code",
      "source": [
        "def introduce_name(state:AgentState) -> AgentState:\n",
        "    state[\"message\"] = f\"\"\"My name is {state[\"name\"]}.\"\"\"\n",
        "    return state\n",
        "\n",
        "def introduce_age(state:AgentState) -> AgentState:\n",
        "    state[\"message\"] = state[\"message\"] + f\"\"\"I'm {state[\"age\"]} years old.\"\"\"\n",
        "    return state"
      ],
      "metadata": {
        "id": "sWVGzW8gLgAa"
      },
      "execution_count": null,
      "outputs": []
    },
    {
      "cell_type": "code",
      "source": [
        "workflow = StateGraph(AgentState)\n",
        "\n",
        "workflow.add_node(\"introduce_name\", introduce_name)\n",
        "workflow.add_node(\"introduce_age\", introduce_age)\n",
        "\n",
        "workflow.add_edge( START, \"introduce_name\" )\n",
        "workflow.add_edge( \"introduce_name\", \"introduce_age\" )\n",
        "workflow.add_edge( \"introduce_age\", END )\n",
        "\n",
        "app = workflow.compile()"
      ],
      "metadata": {
        "id": "jr5LGmpCL2gi"
      },
      "execution_count": null,
      "outputs": []
    },
    {
      "cell_type": "code",
      "source": [
        "from IPython.display import Image, display\n",
        "display(Image(app.get_graph().draw_mermaid_png()))"
      ],
      "metadata": {
        "colab": {
          "base_uri": "https://localhost:8080/",
          "height": 350
        },
        "id": "CNeUWjhTMZ4p",
        "outputId": "fc011582-25ca-4a68-fc27-b3be842c8aab"
      },
      "execution_count": null,
      "outputs": [
        {
          "output_type": "display_data",
          "data": {
            "image/png": "[encoded data removed]",
            "text/plain": [
              "<IPython.core.display.Image object>"
            ]
          },
          "metadata": {}
        }
      ]
    },
    {
      "cell_type": "code",
      "source": [
        "result = app.invoke({\"name\": \"Kamal\", \"age\": 20})\n",
        "print(result)"
      ],
      "metadata": {
        "colab": {
          "base_uri": "https://localhost:8080/"
        },
        "id": "-Tnp4lwkMdDI",
        "outputId": "8cf0e5d8-a4e7-45dc-ea73-bc87dc20ff36"
      },
      "execution_count": null,
      "outputs": [
        {
          "output_type": "stream",
          "name": "stdout",
          "text": [
            "{'name': 'Kamal', 'age': 20, 'message': \"My name is Kamal.I'm 20 years old.\"}\n"
          ]
        }
      ]
    },
    {
      "cell_type": "code",
      "source": [
        "print(result[\"message\"])"
      ],
      "metadata": {
        "colab": {
          "base_uri": "https://localhost:8080/"
        },
        "id": "v8Q_GxKVMg7g",
        "outputId": "b9d6ed8c-9421-4151-a9a5-c63399cab5c3"
      },
      "execution_count": null,
      "outputs": [
        {
          "output_type": "stream",
          "name": "stdout",
          "text": [
            "My name is Kamal.I'm 20 years old.\n"
          ]
        }
      ]
    },
    {
      "cell_type": "markdown",
      "source": [
        "### Conditional Graph"
      ],
      "metadata": {
        "id": "CTPXvwE7Mn5L"
      }
    },
    {
      "cell_type": "code",
      "source": [
        "from typing import TypedDict\n",
        "from langgraph.graph import StateGraph, START, END"
      ],
      "metadata": {
        "id": "vHECLjFZMkIQ"
      },
      "execution_count": null,
      "outputs": []
    },
    {
      "cell_type": "code",
      "source": [
        "class AgentState(TypedDict):\n",
        "    num1: int\n",
        "    num2: int\n",
        "    operation: str\n",
        "    result: int"
      ],
      "metadata": {
        "id": "_SSOhWHzNagy"
      },
      "execution_count": null,
      "outputs": []
    },
    {
      "cell_type": "code",
      "source": [
        "def addition(state:AgentState) -> AgentState:\n",
        "    state[\"result\"] = state[\"num1\"] + state[\"num2\"]\n",
        "    return state\n",
        "\n",
        "def subtraction(state:AgentState) -> AgentState:\n",
        "    state[\"result\"] = state[\"num1\"] - state[\"num2\"]\n",
        "    return state\n",
        "\n",
        "def multiplication(state:AgentState) -> AgentState:\n",
        "    state[\"result\"] = state[\"num1\"] * state[\"num2\"]\n",
        "    return state\n",
        "\n",
        "def division(state:AgentState) -> AgentState:\n",
        "    state[\"result\"] = state[\"num1\"] / state[\"num2\"]\n",
        "    return state\n",
        "\n",
        "\n",
        "def decision_node(state:AgentState) -> AgentState:\n",
        "    if state[\"operation\"] == \"+\":\n",
        "        return \"addition_operation\"\n",
        "    elif state[\"operation\"] == \"-\":\n",
        "        return \"subtraction_operation\"\n",
        "    elif state[\"operation\"] == \"*\":\n",
        "        return \"multiplication_operation\"\n",
        "    elif state[\"operation\"] == \"/\":\n",
        "        return \"division_operation\""
      ],
      "metadata": {
        "id": "4s2EFeJvNOWM"
      },
      "execution_count": null,
      "outputs": []
    },
    {
      "cell_type": "code",
      "source": [
        "workflow = StateGraph(AgentState)\n",
        "\n",
        "workflow.add_node(\"addition\", addition)\n",
        "workflow.add_node(\"subtraction\", subtraction)\n",
        "workflow.add_node(\"multiplication\", multiplication)\n",
        "workflow.add_node(\"division\", division)\n",
        "workflow.add_node(\"router\", lambda state:state)\n",
        "\n",
        "workflow.add_edge(START, \"router\")\n",
        "workflow.add_conditional_edges(\n",
        "    \"router\",\n",
        "    decision_node,\n",
        "    {\n",
        "        \"addition_operation\": \"addition\",\n",
        "        \"subtraction_operation\": \"subtraction\",\n",
        "        \"multiplication_operation\":\"multiplication\",\n",
        "        \"division_operation\":\"division\"\n",
        "    }\n",
        "workflow.add_edge(\"addition\", END)\n",
        "workflow.add_edge(\"subtraction\", END)\n",
        "workflow.add_edge(\"multiplication\", END)\n",
        "workflow.add_edge(\"division\", END)\n",
        "\n",
        "app = workflow.compile()"
      ],
      "metadata": {
        "id": "wqy_Leb-OmvM"
      },
      "execution_count": null,
      "outputs": []
    },
    {
      "cell_type": "code",
      "source": [
        "from IPython.display import Image, display\n",
        "display(Image(app.get_graph().draw_mermaid_png()))"
      ],
      "metadata": {
        "colab": {
          "base_uri": "https://localhost:8080/",
          "height": 374
        },
        "id": "q-2YLsPWRhMe",
        "outputId": "918da65a-8d17-4542-c9e1-00e779ee219a"
      },
      "execution_count": null,
      "outputs": [
        {
          "output_type": "display_data",
          "data": {
            "image/png": "[encoded data removed]",
            "text/plain": [
              "<IPython.core.display.Image object>"
            ]
          },
          "metadata": {}
        }
      ]
    },
    {
      "cell_type": "code",
      "source": [
        "result = app.invoke({\"num1\": 23, \"num2\": 10, \"operation\": \"+\"})\n",
        "print(result)"
      ],
      "metadata": {
        "colab": {
          "base_uri": "https://localhost:8080/"
        },
        "id": "GyZdSJBFRtxt",
        "outputId": "7e937d5c-2f7d-4693-c563-fc1c63da98e8"
      },
      "execution_count": null,
      "outputs": [
        {
          "output_type": "stream",
          "name": "stdout",
          "text": [
            "{'num1': 23, 'num2': 10, 'operation': '+', 'result': 33}\n"
          ]
        }
      ]
    },
    {
      "cell_type": "code",
      "source": [
        "result = app.invoke({\"num1\": 23, \"num2\": 10, \"operation\": \"/\"})\n",
        "print(result)"
      ],
      "metadata": {
        "colab": {
          "base_uri": "https://localhost:8080/"
        },
        "id": "IRi9GYXNSFLt",
        "outputId": "0b150851-5898-4145-dac7-831d212e82a1"
      },
      "execution_count": null,
      "outputs": [
        {
          "output_type": "stream",
          "name": "stdout",
          "text": [
            "{'num1': 23, 'num2': 10, 'operation': '/', 'result': 2.3}\n"
          ]
        }
      ]
    },
    {
      "cell_type": "code",
      "source": [],
      "metadata": {
        "id": "kqaqdWRFS8So"
      },
      "execution_count": null,
      "outputs": []
    }
  ]
}