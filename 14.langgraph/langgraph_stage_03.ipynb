{
  "nbformat": 4,
  "nbformat_minor": 0,
  "metadata": {
    "colab": {
      "provenance": []
    },
    "kernelspec": {
      "name": "python3",
      "display_name": "Python 3"
    },
    "language_info": {
      "name": "python"
    }
  },
  "cells": [
    {
      "cell_type": "code",
      "source": [
        "!pip install langchain==0.3.24 -q\n",
        "!pip install langchain-openai -q\n",
        "!pip install langchain-community -q\n",
        "!pip install langgraph -q\n",
        "\n",
        "# !pip install langchain-tavily -q\n",
        "# !pip install pyowm -qU"
      ],
      "metadata": {
        "colab": {
          "base_uri": "https://localhost:8080/"
        },
        "id": "nldn0gZxgSO8",
        "outputId": "ef394112-c8e3-4176-f410-cb0b6ded3652"
      },
      "execution_count": null,
      "outputs": [
        {
          "output_type": "stream",
          "name": "stdout",
          "text": [
            "\u001b[31mERROR: pip's dependency resolver does not currently take into account all the packages that are installed. This behaviour is the source of the following dependency conflicts.\n",
            "langchain-community 0.3.24 requires langchain<1.0.0,>=0.3.25, but you have langchain 0.3.24 which is incompatible.\u001b[0m\u001b[31m\n",
            "\u001b[2K   \u001b[90m━━━━━━━━━━━━━━━━━━━━━━━━━━━━━━━━━━━━━━━━\u001b[0m \u001b[32m12.3/12.3 MB\u001b[0m \u001b[31m85.2 MB/s\u001b[0m eta \u001b[36m0:00:00\u001b[0m\n",
            "\u001b[2K   \u001b[90m━━━━━━━━━━━━━━━━━━━━━━━━━━━━━━━━━━━━━━━━\u001b[0m \u001b[32m4.5/4.5 MB\u001b[0m \u001b[31m35.6 MB/s\u001b[0m eta \u001b[36m0:00:00\u001b[0m\n",
            "\u001b[?25h"
          ]
        }
      ]
    },
    {
      "cell_type": "code",
      "execution_count": null,
      "metadata": {
        "id": "wVNk1m2JcXTe"
      },
      "outputs": [],
      "source": [
        "from typing import Annotated, Sequence, TypedDict\n",
        "from langchain_core.messages import BaseMessage, ToolMessage, SystemMessage\n",
        "from langchain_openai import ChatOpenAI\n",
        "from langchain_core.tools import tool\n",
        "from langgraph.graph.message import add_messages\n",
        "from langgraph.graph import StateGraph, START, END\n",
        "from langgraph.prebuilt import ToolNode"
      ]
    },
    {
      "cell_type": "code",
      "source": [
        "class AgentState(TypedDict):\n",
        "    messages: Annotated[Sequence[BaseMessage], add_messages]"
      ],
      "metadata": {
        "id": "p1tYXb-jgV5p"
      },
      "execution_count": null,
      "outputs": []
    },
    {
      "cell_type": "code",
      "source": [
        "import os\n",
        "from google.colab import userdata\n",
        "\n",
        "os.environ['OPENAI_API_KEY'] = userdata.get('API_KEY')"
      ],
      "metadata": {
        "id": "OmLm78uywEr5"
      },
      "execution_count": null,
      "outputs": []
    },
    {
      "cell_type": "code",
      "source": [
        "llm = ChatOpenAI(model = \"gpt-4o\")"
      ],
      "metadata": {
        "id": "EHbk2NCqwJOB"
      },
      "execution_count": null,
      "outputs": []
    },
    {
      "cell_type": "code",
      "source": [
        "# from langchain_tavily import TavilySearch\n",
        "# from langchain_community.utilities import OpenWeatherMapAPIWrapper\n",
        "from langchain.agents import load_tools\n",
        "\n",
        "@tool\n",
        "def addtion(a: int, b:int):\n",
        "    \"\"\"This is the addition function that adds 2 numbers\"\"\"\n",
        "    return a + b\n",
        "\n",
        "@tool\n",
        "def subtraction(a: int, b: int):\n",
        "    \"\"\"This is the subtraction function that subtract 2 numbers\"\"\"\n",
        "    return a - b\n",
        "\n",
        "@tool\n",
        "def multiplication(a: int, b: int):\n",
        "    \"\"\"This is the multiplication function that multiply 2 numbers\"\"\"\n",
        "    return a * b\n",
        "\n",
        "@tool\n",
        "def division(a: int, b: int):\n",
        "    \"\"\"This is the division function that divide 2 numbers\"\"\"\n",
        "    return a / b\n",
        "\n",
        "# os.environ[\"OPENWEATHERMAP_API_KEY\"] = userdata.get('OPENWEATHERMAP_API_KEY')\n",
        "# os.environ['TAVILY_API_KEY'] = userdata.get('TAVILY_API_KEY')\n",
        "\n",
        "# # Initialize DuckDuckGo search tool\n",
        "# search_tool = TavilySearch()\n",
        "\n",
        "# # Initialize OpenWeatherMap tool\n",
        "# weather = OpenWeatherMapAPIWrapper()\n",
        "\n",
        "# weather_tool = load_tools([\"openweathermap-api\"], llm)[0]"
      ],
      "metadata": {
        "id": "7Beq5FWRgZPj"
      },
      "execution_count": null,
      "outputs": []
    },
    {
      "cell_type": "code",
      "source": [
        "tools = [addtion, subtraction, multiplication, division]\n",
        "# tools = [search_tool, weather_tool]"
      ],
      "metadata": {
        "id": "LNi0g5SbgbWa"
      },
      "execution_count": null,
      "outputs": []
    },
    {
      "cell_type": "code",
      "source": [
        "llm_with_tools = llm.bind_tools(tools)"
      ],
      "metadata": {
        "id": "Q0qVjpJylZbw"
      },
      "execution_count": null,
      "outputs": []
    },
    {
      "cell_type": "code",
      "source": [
        "def llm_call(state:AgentState) -> AgentState:\n",
        "    system_prompt = SystemMessage(content=\n",
        "        \"You are an intelligent AI assistant.\"\n",
        "    )\n",
        "    response = llm_with_tools.invoke([system_prompt] + state[\"messages\"])\n",
        "    return {\"messages\": [response]}\n",
        "\n",
        "\n",
        "def decision(state: AgentState):\n",
        "    messages = state[\"messages\"]\n",
        "    last_message = messages[-1]\n",
        "    if not last_message.tool_calls:\n",
        "        return \"end\"\n",
        "    else:\n",
        "        return \"continue\""
      ],
      "metadata": {
        "id": "o-wxleSGgflJ"
      },
      "execution_count": null,
      "outputs": []
    },
    {
      "cell_type": "code",
      "source": [
        "graph = StateGraph(AgentState)\n",
        "\n",
        "graph.add_node(\"agent\", llm_call)\n",
        "tool_node = ToolNode(tools=tools)\n",
        "graph.add_node(\"tools\", tool_node)\n",
        "\n",
        "graph.set_entry_point(\"agent\")\n",
        "graph.add_conditional_edges(\n",
        "    \"agent\",\n",
        "    decision,\n",
        "    {\n",
        "        \"continue\": \"tools\",\n",
        "        \"end\": END,\n",
        "    },\n",
        ")\n",
        "graph.add_edge(\"tools\", \"agent\")\n",
        "\n",
        "app = graph.compile()"
      ],
      "metadata": {
        "id": "69muw3ULgjZB"
      },
      "execution_count": null,
      "outputs": []
    },
    {
      "cell_type": "code",
      "source": [
        "from IPython.display import Image, display\n",
        "display(Image(app.get_graph().draw_mermaid_png()))"
      ],
      "metadata": {
        "colab": {
          "base_uri": "https://localhost:8080/",
          "height": 290
        },
        "id": "Kj7jLTwytBhH",
        "outputId": "f15ef21b-4cc4-42d6-b2e3-7f30b015f4ca"
      },
      "execution_count": null,
      "outputs": [
        {
          "output_type": "display_data",
          "data": {
            "image/png": "[encoded data removed]",
            "text/plain": [
              "<IPython.core.display.Image object>"
            ]
          },
          "metadata": {}
        }
      ]
    },
    {
      "cell_type": "code",
      "source": [
        "def print_stream(stream):\n",
        "    for s in stream:\n",
        "        message = s[\"messages\"][-1]\n",
        "        if isinstance(message, tuple):\n",
        "            print(message)\n",
        "        else:\n",
        "            message.pretty_print()"
      ],
      "metadata": {
        "id": "FNhR03U63R8O"
      },
      "execution_count": null,
      "outputs": []
    },
    {
      "cell_type": "code",
      "source": [
        "inputs = {\"messages\": [(\"user\", \"Add 40 and 12. Then multiply the result by 6.\")]}\n",
        "print_stream(app.stream(inputs, stream_mode=\"values\"))"
      ],
      "metadata": {
        "id": "U9GFr1rFU7wr",
        "colab": {
          "base_uri": "https://localhost:8080/"
        },
        "outputId": "02d2f19c-3f5d-402f-b9a9-0a88978cc820"
      },
      "execution_count": null,
      "outputs": [
        {
          "output_type": "stream",
          "name": "stdout",
          "text": [
            "================================\u001b[1m Human Message \u001b[0m=================================\n",
            "\n",
            "Add 40 and 12. Then multiply the result by 6.\n",
            "==================================\u001b[1m Ai Message \u001b[0m==================================\n",
            "\n",
            "First, add 40 and 12:\n",
            "\n",
            "\\[ 40 + 12 = 52 \\]\n",
            "\n",
            "Next, multiply the result by 6:\n",
            "\n",
            "\\[ 52 \\times 6 = 312 \\]\n",
            "\n",
            "So, the final result is 312.\n"
          ]
        }
      ]
    },
    {
      "cell_type": "code",
      "source": [
        "inputs = {\"messages\": [(\"user\", \"What is the current temperature in Colombo?\")]}\n",
        "print_stream(app.stream(inputs, stream_mode=\"values\"))"
      ],
      "metadata": {
        "colab": {
          "base_uri": "https://localhost:8080/"
        },
        "id": "OQT_o4-POqFW",
        "outputId": "762aa9d0-afee-46d3-8b2b-f714f460d63f"
      },
      "execution_count": null,
      "outputs": [
        {
          "output_type": "stream",
          "name": "stdout",
          "text": [
            "================================\u001b[1m Human Message \u001b[0m=================================\n",
            "\n",
            "What is the current temperature in Colombo?\n",
            "==================================\u001b[1m Ai Message \u001b[0m==================================\n",
            "Tool Calls:\n",
            "  open_weather_map (call_HLVW9DqUy98ctFgEr2GSqJsi)\n",
            " Call ID: call_HLVW9DqUy98ctFgEr2GSqJsi\n",
            "  Args:\n",
            "    location: Colombo\n",
            "=================================\u001b[1m Tool Message \u001b[0m=================================\n",
            "Name: open_weather_map\n",
            "\n",
            "In Colombo, the current weather is as follows:\n",
            "Detailed status: overcast clouds\n",
            "Wind speed: 9.72 m/s, direction: 253°\n",
            "Humidity: 83%\n",
            "Temperature: \n",
            "  - Current: 28.97°C\n",
            "  - High: 28.97°C\n",
            "  - Low: 28.97°C\n",
            "  - Feels like: 35.32°C\n",
            "Rain: {}\n",
            "Heat index: None\n",
            "Cloud cover: 98%\n",
            "==================================\u001b[1m Ai Message \u001b[0m==================================\n",
            "\n",
            "The current temperature in Colombo is 28.97°C, and it feels like 35.32°C. The weather is overcast with a cloud cover of 98% and a humidity of 83%.\n"
          ]
        }
      ]
    },
    {
      "cell_type": "code",
      "source": [
        "inputs = {\"messages\": [(\"user\", \"what is codepro lk?\")]}\n",
        "print_stream(app.stream(inputs, stream_mode=\"values\"))"
      ],
      "metadata": {
        "colab": {
          "base_uri": "https://localhost:8080/"
        },
        "id": "AtBYuFR3O4BC",
        "outputId": "de091783-014e-452d-9887-cad0237932d2"
      },
      "execution_count": null,
      "outputs": [
        {
          "output_type": "stream",
          "name": "stdout",
          "text": [
            "================================\u001b[1m Human Message \u001b[0m=================================\n",
            "\n",
            "what is codepro lk?\n",
            "==================================\u001b[1m Ai Message \u001b[0m==================================\n",
            "Tool Calls:\n",
            "  tavily_search (call_Wc3ueCPaikDvCQ397P8uGLza)\n",
            " Call ID: call_Wc3ueCPaikDvCQ397P8uGLza\n",
            "  Args:\n",
            "    query: CodePro LK\n",
            "=================================\u001b[1m Tool Message \u001b[0m=================================\n",
            "Name: tavily_search\n",
            "\n",
            "{\"query\": \"CodePro LK\", \"follow_up_questions\": null, \"answer\": null, \"images\": [], \"results\": [{\"title\": \"CodePRO LK - Implement Yourself\", \"url\": \"https://codeprolk.com/\", \"content\": \"CodePRO LK is a technology-driven platform dedicated to empowering individuals and businesses through innovative services and cutting-edge education. In today's AI-driven world, every industry is leveraging the power of artificial intelligence to revolutionize operations and enhance capabilities.\", \"score\": 0.9145431, \"raw_content\": null}, {\"title\": \"CodePRO LK - Telegram\", \"url\": \"https://t.me/s/codeprolk?before=192\", \"content\": \"CodePRO LK. Python GUI නිර්මාණය | Python Tkinter Course | Sinhala Tkinter is a standard GUI (Graphical User Interface) toolkit for Python. It is a module that comes with Python and provides tools for creating desktop applications with graphical interfaces.\", \"score\": 0.8706085, \"raw_content\": null}, {\"title\": \"CodePRO LK - LinkedIn\", \"url\": \"https://www.linkedin.com/company/codepro-lk\", \"content\": \"CodePRO LK | 1,369 followers on LinkedIn. Let's try to figure out the pre-trained model that works on our Brain | CodePRO LK is a leading technology company specializing in AI-driven solutions\", \"score\": 0.8396422, \"raw_content\": null}, {\"title\": \"CodePRO LK - Facebook\", \"url\": \"https://www.facebook.com/codeprolkofficial/\", \"content\": \"CodePRO LK. 280 likes · 31 talking about this. ⚡Let's try to figure out the pre-trained model that works on our brain 易..\", \"score\": 0.5479727, \"raw_content\": null}, {\"title\": \"CodePRO LK - YouTube\", \"url\": \"https://www.youtube.com/channel/UCI3sRzrfKcpm_MKTYmo9lZg\", \"content\": \"⚡Let's try to figure out the pre-trained model that works on our brain 🧠\", \"score\": 0.45391592, \"raw_content\": null}], \"response_time\": 1.29}\n",
            "==================================\u001b[1m Ai Message \u001b[0m==================================\n",
            "\n",
            "CodePro LK is a technology-driven platform dedicated to empowering individuals and businesses through innovative services and cutting-edge education. It focuses on leveraging the power of artificial intelligence to revolutionize operations and enhance capabilities in today's AI-driven world. You can learn more about CodePro LK on their [official website](https://codeprolk.com/).\n"
          ]
        }
      ]
    },
    {
      "cell_type": "code",
      "source": [],
      "metadata": {
        "id": "KiTZVmJsPCVV"
      },
      "execution_count": null,
      "outputs": []
    }
  ]
}