{
  "nbformat": 4,
  "nbformat_minor": 0,
  "metadata": {
    "colab": {
      "provenance": []
    },
    "kernelspec": {
      "name": "python3",
      "display_name": "Python 3"
    },
    "language_info": {
      "name": "python"
    }
  },
  "cells": [
    {
      "cell_type": "code",
      "execution_count": null,
      "metadata": {
        "colab": {
          "base_uri": "https://localhost:8080/"
        },
        "id": "9Q_3sSXTWr9F",
        "outputId": "4f2a86a7-c744-4fef-e04a-2944955850ae"
      },
      "outputs": [
        {
          "output_type": "stream",
          "name": "stdout",
          "text": [
            "\u001b[2K   \u001b[90m━━━━━━━━━━━━━━━━━━━━━━━━━━━━━━━━━━━━━━━━\u001b[0m \u001b[32m1.0/1.0 MB\u001b[0m \u001b[31m18.9 MB/s\u001b[0m eta \u001b[36m0:00:00\u001b[0m\n",
            "\u001b[2K   \u001b[90m━━━━━━━━━━━━━━━━━━━━━━━━━━━━━━━━━━━━━━━━\u001b[0m \u001b[32m63.4/63.4 kB\u001b[0m \u001b[31m2.6 MB/s\u001b[0m eta \u001b[36m0:00:00\u001b[0m\n",
            "\u001b[2K   \u001b[90m━━━━━━━━━━━━━━━━━━━━━━━━━━━━━━━━━━━━━━━━\u001b[0m \u001b[32m438.4/438.4 kB\u001b[0m \u001b[31m16.1 MB/s\u001b[0m eta \u001b[36m0:00:00\u001b[0m\n",
            "\u001b[2K     \u001b[90m━━━━━━━━━━━━━━━━━━━━━━━━━━━━━━━━━━━━━━━━\u001b[0m \u001b[32m43.7/43.7 kB\u001b[0m \u001b[31m3.1 MB/s\u001b[0m eta \u001b[36m0:00:00\u001b[0m\n",
            "\u001b[2K   \u001b[90m━━━━━━━━━━━━━━━━━━━━━━━━━━━━━━━━━━━━━━━━\u001b[0m \u001b[32m154.9/154.9 kB\u001b[0m \u001b[31m9.9 MB/s\u001b[0m eta \u001b[36m0:00:00\u001b[0m\n",
            "\u001b[2K   \u001b[90m━━━━━━━━━━━━━━━━━━━━━━━━━━━━━━━━━━━━━━━━\u001b[0m \u001b[32m44.2/44.2 kB\u001b[0m \u001b[31m3.3 MB/s\u001b[0m eta \u001b[36m0:00:00\u001b[0m\n",
            "\u001b[2K   \u001b[90m━━━━━━━━━━━━━━━━━━━━━━━━━━━━━━━━━━━━━━━━\u001b[0m \u001b[32m50.0/50.0 kB\u001b[0m \u001b[31m3.8 MB/s\u001b[0m eta \u001b[36m0:00:00\u001b[0m\n",
            "\u001b[2K   \u001b[90m━━━━━━━━━━━━━━━━━━━━━━━━━━━━━━━━━━━━━━━━\u001b[0m \u001b[32m216.5/216.5 kB\u001b[0m \u001b[31m14.4 MB/s\u001b[0m eta \u001b[36m0:00:00\u001b[0m\n",
            "\u001b[?25h"
          ]
        }
      ],
      "source": [
        "!pip install langchain==0.3.24 -q\n",
        "!pip install langchain-openai -q\n",
        "!pip install langgraph -q"
      ]
    },
    {
      "cell_type": "markdown",
      "source": [
        "### Chat Agent + Conversational Chat Agent"
      ],
      "metadata": {
        "id": "OOoYhsIQXm-U"
      }
    },
    {
      "cell_type": "code",
      "source": [
        "from typing import TypedDict, List\n",
        "from langchain_core.messages import HumanMessage\n",
        "from langchain_openai import ChatOpenAI\n",
        "from langgraph.graph import StateGraph, START, END\n",
        "\n",
        "# from typing import TypedDict, List, Union\n",
        "# from langchain_core.messages import HumanMessage, AIMessage"
      ],
      "metadata": {
        "id": "qffIR7HHWwql"
      },
      "execution_count": null,
      "outputs": []
    },
    {
      "cell_type": "code",
      "source": [
        "class AgentState(TypedDict):\n",
        "    messages: List[HumanMessage]\n",
        "\n",
        "# class AgentState(TypedDict):\n",
        "#     messages: List[Union[HumanMessage, AIMessage]]"
      ],
      "metadata": {
        "id": "CoSkPeWtW4GD"
      },
      "execution_count": null,
      "outputs": []
    },
    {
      "cell_type": "code",
      "source": [
        "import os\n",
        "from google.colab import userdata\n",
        "\n",
        "os.environ['OPENAI_API_KEY'] = userdata.get('API_KEY')\n",
        "\n",
        "llm = ChatOpenAI(\n",
        "    model=\"gpt-4o\",\n",
        "    temperature=0\n",
        ")"
      ],
      "metadata": {
        "id": "IQcpCbJclPBp"
      },
      "execution_count": null,
      "outputs": []
    },
    {
      "cell_type": "code",
      "source": [
        "def chatbot(state: AgentState) -> AgentState:\n",
        "    response = llm.invoke(state[\"messages\"])\n",
        "    # state[\"messages\"].append(AIMessage(content=response.content))\n",
        "    print(f\"\\nAI: {response.content}\")\n",
        "    return state"
      ],
      "metadata": {
        "id": "A3fnXhZ8Xc6Z"
      },
      "execution_count": null,
      "outputs": []
    },
    {
      "cell_type": "code",
      "source": [
        "workflow = StateGraph(AgentState)\n",
        "\n",
        "workflow.add_node(\"chatbot\", chatbot)\n",
        "\n",
        "workflow.add_edge(START, \"chatbot\")\n",
        "workflow.add_edge(\"chatbot\", END)\n",
        "\n",
        "app = workflow.compile()"
      ],
      "metadata": {
        "id": "_zJAcRAdXfFB"
      },
      "execution_count": null,
      "outputs": []
    },
    {
      "cell_type": "code",
      "source": [
        "from IPython.display import Image, display\n",
        "display(Image(app.get_graph().draw_mermaid_png()))"
      ],
      "metadata": {
        "colab": {
          "base_uri": "https://localhost:8080/",
          "height": 251
        },
        "id": "cZWyXsBfw-6I",
        "outputId": "1ed56732-c68f-480c-fa15-9cbe05188b35"
      },
      "execution_count": null,
      "outputs": [
        {
          "output_type": "display_data",
          "data": {
            "image/png": "[encoded data removed]",
            "text/plain": [
              "<IPython.core.display.Image object>"
            ]
          },
          "metadata": {}
        }
      ]
    },
    {
      "cell_type": "code",
      "source": [
        "user_input = input(\"Enter a Query: \")\n",
        "result = app.invoke({\"messages\": [HumanMessage(content=user_input)]})"
      ],
      "metadata": {
        "id": "a6LAWfSyYBlL",
        "colab": {
          "base_uri": "https://localhost:8080/"
        },
        "outputId": "aa5f59db-b283-43b4-fa34-7b9d20440b15"
      },
      "execution_count": null,
      "outputs": [
        {
          "output_type": "stream",
          "name": "stdout",
          "text": [
            "Enter a Query: hello\n",
            "\n",
            "AI: Hello! How can I assist you today?\n"
          ]
        }
      ]
    },
    {
      "cell_type": "code",
      "source": [
        "user_input = input(\"Enter a Query: \")\n",
        "while user_input != \"exit\":\n",
        "    result = app.invoke({\"messages\": [HumanMessage(content=user_input)]})\n",
        "    user_input = input(\"Enter a Query: \")\n",
        "\n",
        "# conversation_history = []\n",
        "# user_input = input(\"Enter a Query: \")\n",
        "# while user_input != \"exit\":\n",
        "#     conversation_history.append(HumanMessage(content=user_input))\n",
        "#     result = app.invoke({\"messages\": conversation_history})\n",
        "#     conversation_history = result[\"messages\"]\n",
        "#     user_input = input(\"Enter a Query: \")"
      ],
      "metadata": {
        "id": "HmZD6QcJXhJ5",
        "colab": {
          "base_uri": "https://localhost:8080/"
        },
        "outputId": "9ea3c2da-c9ca-4e0f-ee6a-03c5e9e5a636"
      },
      "execution_count": null,
      "outputs": [
        {
          "name": "stdout",
          "output_type": "stream",
          "text": [
            "Enter a Query: hello. im dinesh\n",
            "\n",
            "AI: Hello, Dinesh! How can I assist you today?\n",
            "Enter a Query: who am I\n",
            "\n",
            "AI: You are a unique individual with your own thoughts, experiences, and identity. If you provide more context or specific details, I might be able to help you with something more specific!\n",
            "Enter a Query: exit\n"
          ]
        }
      ]
    }
  ]
}