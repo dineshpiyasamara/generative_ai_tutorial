{
  "nbformat": 4,
  "nbformat_minor": 0,
  "metadata": {
    "colab": {
      "provenance": []
    },
    "kernelspec": {
      "name": "python3",
      "display_name": "Python 3"
    },
    "language_info": {
      "name": "python"
    }
  },
  "cells": [
    {
      "cell_type": "markdown",
      "source": [
        "### Install Required Packages"
      ],
      "metadata": {
        "id": "jwM-3JuS-ydK"
      }
    },
    {
      "cell_type": "code",
      "execution_count": 1,
      "metadata": {
        "id": "ZgJ176y_HuHi",
        "colab": {
          "base_uri": "https://localhost:8080/"
        },
        "outputId": "d49c0f89-5197-4d91-fa5f-63dc2e659807"
      },
      "outputs": [
        {
          "output_type": "stream",
          "name": "stdout",
          "text": [
            "\u001b[?25l   \u001b[90m━━━━━━━━━━━━━━━━━━━━━━━━━━━━━━━━━━━━━━━━\u001b[0m \u001b[32m0.0/62.8 kB\u001b[0m \u001b[31m?\u001b[0m eta \u001b[36m-:--:--\u001b[0m\r\u001b[2K   \u001b[90m━━━━━━━━━━━━━━━━━━━━━━━━━━━━━━━━━━━━━━━━\u001b[0m \u001b[32m62.8/62.8 kB\u001b[0m \u001b[31m5.2 MB/s\u001b[0m eta \u001b[36m0:00:00\u001b[0m\n",
            "\u001b[?25h\u001b[?25l   \u001b[90m━━━━━━━━━━━━━━━━━━━━━━━━━━━━━━━━━━━━━━━━\u001b[0m \u001b[32m0.0/437.7 kB\u001b[0m \u001b[31m?\u001b[0m eta \u001b[36m-:--:--\u001b[0m\r\u001b[2K   \u001b[90m━━━━━━━━━━━━━━━━━━━━━━━━━━━━━━━━━━━━━━━━\u001b[0m \u001b[32m437.7/437.7 kB\u001b[0m \u001b[31m22.8 MB/s\u001b[0m eta \u001b[36m0:00:00\u001b[0m\n",
            "\u001b[2K   \u001b[90m━━━━━━━━━━━━━━━━━━━━━━━━━━━━━━━━━━━━━━━━\u001b[0m \u001b[32m1.2/1.2 MB\u001b[0m \u001b[31m56.1 MB/s\u001b[0m eta \u001b[36m0:00:00\u001b[0m\n",
            "\u001b[2K   \u001b[90m━━━━━━━━━━━━━━━━━━━━━━━━━━━━━━━━━━━━━━━━\u001b[0m \u001b[32m2.5/2.5 MB\u001b[0m \u001b[31m68.3 MB/s\u001b[0m eta \u001b[36m0:00:00\u001b[0m\n",
            "\u001b[2K   \u001b[90m━━━━━━━━━━━━━━━━━━━━━━━━━━━━━━━━━━━━━━━━\u001b[0m \u001b[32m44.4/44.4 kB\u001b[0m \u001b[31m3.2 MB/s\u001b[0m eta \u001b[36m0:00:00\u001b[0m\n",
            "\u001b[2K   \u001b[90m━━━━━━━━━━━━━━━━━━━━━━━━━━━━━━━━━━━━━━━━\u001b[0m \u001b[32m50.9/50.9 kB\u001b[0m \u001b[31m3.7 MB/s\u001b[0m eta \u001b[36m0:00:00\u001b[0m\n",
            "\u001b[?25h"
          ]
        }
      ],
      "source": [
        "!pip install langchain_openai -q\n",
        "!pip install langchain_community -q\n",
        "!pip install langchain -q"
      ]
    },
    {
      "cell_type": "markdown",
      "source": [
        "### Create SQLite Database and Tables"
      ],
      "metadata": {
        "id": "etFkaDDg-96m"
      }
    },
    {
      "cell_type": "code",
      "source": [
        "import sqlite3"
      ],
      "metadata": {
        "id": "ZPxWoVv4Hxeg"
      },
      "execution_count": 2,
      "outputs": []
    },
    {
      "cell_type": "code",
      "source": [
        "connection = sqlite3.connect(\"school.db\")"
      ],
      "metadata": {
        "id": "GMbzoXKSIdcD"
      },
      "execution_count": 3,
      "outputs": []
    },
    {
      "cell_type": "code",
      "source": [
        "cursor = connection.cursor()"
      ],
      "metadata": {
        "id": "_sZtdquQIw_d"
      },
      "execution_count": 4,
      "outputs": []
    },
    {
      "cell_type": "code",
      "source": [
        "cursor.execute(\"\"\"\n",
        "CREATE TABLE IF NOT EXISTS teachers (\n",
        "    teacher_id INTEGER PRIMARY KEY AUTOINCREMENT,\n",
        "    name TEXT NOT NULL,\n",
        "    age INTEGER NOT NULL\n",
        ")\n",
        "\"\"\")\n",
        "\n",
        "cursor.execute(\"\"\"\n",
        "CREATE TABLE IF NOT EXISTS subjects (\n",
        "    subject_id INTEGER PRIMARY KEY AUTOINCREMENT,\n",
        "    subject_name TEXT NOT NULL\n",
        ")\n",
        "\"\"\")\n",
        "\n",
        "cursor.execute(\"\"\"\n",
        "CREATE TABLE IF NOT EXISTS teaches (\n",
        "    id INTEGER PRIMARY KEY AUTOINCREMENT,\n",
        "    teacher_id INTEGER,\n",
        "    subject_id INTEGER,\n",
        "    FOREIGN KEY (teacher_id) REFERENCES teachers(teacher_id),\n",
        "    FOREIGN KEY (subject_id) REFERENCES subjects(subject_id)\n",
        ")\n",
        "\"\"\")\n",
        "\n",
        "connection.commit()"
      ],
      "metadata": {
        "id": "dUJmgZwHK0nu"
      },
      "execution_count": 5,
      "outputs": []
    },
    {
      "cell_type": "markdown",
      "source": [
        "### Insert Sample Data into Tables"
      ],
      "metadata": {
        "id": "1AnoXQgA_Dzk"
      }
    },
    {
      "cell_type": "code",
      "source": [
        "teachers = [\n",
        "    (\"Kamal\", 42),\n",
        "    (\"Saman\", 29),\n",
        "    (\"Pawan\", 34)\n",
        "]\n",
        "cursor.executemany(\"INSERT INTO teachers (name, age) VALUES (?, ?)\", teachers)\n",
        "\n",
        "subjects = [\n",
        "    (\"Mathematics\",),\n",
        "    (\"Science\",),\n",
        "    (\"History\",),\n",
        "    (\"English\",)\n",
        "]\n",
        "cursor.executemany(\"INSERT INTO subjects (subject_name) VALUES (?)\", subjects)\n",
        "\n",
        "teaches = [\n",
        "    (1, 1),  # Kamal teaches Mathematics\n",
        "    (1, 2),  # Kamal teaches Science\n",
        "    (2, 3),  # Saman teaches History\n",
        "    (3, 4),  # Pawan teaches English\n",
        "]\n",
        "cursor.executemany(\"INSERT INTO teaches (teacher_id, subject_id) VALUES (?, ?)\", teaches)\n",
        "\n",
        "connection.commit()"
      ],
      "metadata": {
        "id": "mMYyqumlLe_S"
      },
      "execution_count": 6,
      "outputs": []
    },
    {
      "cell_type": "code",
      "source": [
        "cursor.execute(\"SELECT * FROM teachers\")\n",
        "teachers = cursor.fetchall()\n",
        "print(teachers)"
      ],
      "metadata": {
        "id": "fwiZBwRLLtNo",
        "colab": {
          "base_uri": "https://localhost:8080/"
        },
        "outputId": "df99f3a7-9c18-4bf6-c3ee-eae0f3e1f47b"
      },
      "execution_count": 7,
      "outputs": [
        {
          "output_type": "stream",
          "name": "stdout",
          "text": [
            "[(1, 'Kamal', 42), (2, 'Saman', 29), (3, 'Pawan', 34)]\n"
          ]
        }
      ]
    },
    {
      "cell_type": "code",
      "source": [
        "cursor.execute(\"\"\"SELECT t.name\n",
        "FROM teachers t\n",
        "JOIN teaches te ON t.teacher_id = te.teacher_id\n",
        "JOIN subjects s ON te.subject_id = s.subject_id\n",
        "WHERE s.subject_name = 'Mathematics';\"\"\")\n",
        "teachers = cursor.fetchall()\n",
        "print(teachers)"
      ],
      "metadata": {
        "id": "f60i7vZoNAVh",
        "colab": {
          "base_uri": "https://localhost:8080/"
        },
        "outputId": "3b23f433-3baa-44b9-a7de-4247dc35cf47"
      },
      "execution_count": 8,
      "outputs": [
        {
          "output_type": "stream",
          "name": "stdout",
          "text": [
            "[('Kamal',)]\n"
          ]
        }
      ]
    },
    {
      "cell_type": "markdown",
      "source": [
        "### Initialize LangChain SQL Database"
      ],
      "metadata": {
        "id": "ATWjyXAOAPyM"
      }
    },
    {
      "cell_type": "code",
      "source": [
        "from google.colab import userdata\n",
        "import os\n",
        "\n",
        "os.environ[\"OPENAI_API_KEY\"] = userdata.get('API_KEY')"
      ],
      "metadata": {
        "id": "XRV9bX6nJ8_V"
      },
      "execution_count": 9,
      "outputs": []
    },
    {
      "cell_type": "code",
      "source": [
        "from langchain_community.utilities.sql_database import SQLDatabase"
      ],
      "metadata": {
        "id": "9XFlAOuwI-0N"
      },
      "execution_count": 10,
      "outputs": []
    },
    {
      "cell_type": "code",
      "source": [
        "db = SQLDatabase.from_uri(f\"sqlite:///school.db\")"
      ],
      "metadata": {
        "id": "URIt1a-MJhSX"
      },
      "execution_count": 11,
      "outputs": []
    },
    {
      "cell_type": "code",
      "source": [
        "print(db.get_usable_table_names())"
      ],
      "metadata": {
        "id": "27QoWLc0Y7Om",
        "colab": {
          "base_uri": "https://localhost:8080/"
        },
        "outputId": "945fa605-f049-427a-845d-68b917c33760"
      },
      "execution_count": 12,
      "outputs": [
        {
          "output_type": "stream",
          "name": "stdout",
          "text": [
            "['subjects', 'teachers', 'teaches']\n"
          ]
        }
      ]
    },
    {
      "cell_type": "code",
      "source": [
        "print(db.table_info)"
      ],
      "metadata": {
        "colab": {
          "base_uri": "https://localhost:8080/"
        },
        "id": "zicQx7mdbgdI",
        "outputId": "346542fb-8c60-4308-b36c-96055085941f"
      },
      "execution_count": 13,
      "outputs": [
        {
          "output_type": "stream",
          "name": "stdout",
          "text": [
            "\n",
            "CREATE TABLE subjects (\n",
            "\tsubject_id INTEGER, \n",
            "\tsubject_name TEXT NOT NULL, \n",
            "\tPRIMARY KEY (subject_id)\n",
            ")\n",
            "\n",
            "/*\n",
            "3 rows from subjects table:\n",
            "subject_id\tsubject_name\n",
            "1\tMathematics\n",
            "2\tScience\n",
            "3\tHistory\n",
            "*/\n",
            "\n",
            "\n",
            "CREATE TABLE teachers (\n",
            "\tteacher_id INTEGER, \n",
            "\tname TEXT NOT NULL, \n",
            "\tage INTEGER NOT NULL, \n",
            "\tPRIMARY KEY (teacher_id)\n",
            ")\n",
            "\n",
            "/*\n",
            "3 rows from teachers table:\n",
            "teacher_id\tname\tage\n",
            "1\tKamal\t42\n",
            "2\tSaman\t29\n",
            "3\tPawan\t34\n",
            "*/\n",
            "\n",
            "\n",
            "CREATE TABLE teaches (\n",
            "\tid INTEGER, \n",
            "\tteacher_id INTEGER, \n",
            "\tsubject_id INTEGER, \n",
            "\tPRIMARY KEY (id), \n",
            "\tFOREIGN KEY(teacher_id) REFERENCES teachers (teacher_id), \n",
            "\tFOREIGN KEY(subject_id) REFERENCES subjects (subject_id)\n",
            ")\n",
            "\n",
            "/*\n",
            "3 rows from teaches table:\n",
            "id\tteacher_id\tsubject_id\n",
            "1\t1\t1\n",
            "2\t1\t2\n",
            "3\t2\t3\n",
            "*/\n"
          ]
        }
      ]
    },
    {
      "cell_type": "markdown",
      "source": [
        "### Initialize LLM"
      ],
      "metadata": {
        "id": "7QS_J3nfAVSt"
      }
    },
    {
      "cell_type": "code",
      "source": [
        "from langchain_openai import ChatOpenAI\n",
        "\n",
        "llm = ChatOpenAI(model=\"gpt-3.5-turbo\", temperature=0)"
      ],
      "metadata": {
        "id": "DTMrUf32ZOxD"
      },
      "execution_count": 14,
      "outputs": []
    },
    {
      "cell_type": "markdown",
      "source": [
        "### Create SQL Generation Chain"
      ],
      "metadata": {
        "id": "3BtT53SqAZaA"
      }
    },
    {
      "cell_type": "code",
      "source": [
        "from langchain.chains import create_sql_query_chain\n",
        "\n",
        "query_generate = create_sql_query_chain(llm, db)"
      ],
      "metadata": {
        "id": "0b7Mh5V3QEnv"
      },
      "execution_count": 15,
      "outputs": []
    },
    {
      "cell_type": "markdown",
      "source": [
        "### Setup SQL Execution Tool"
      ],
      "metadata": {
        "id": "LxOOPkOHAdON"
      }
    },
    {
      "cell_type": "code",
      "source": [
        "from langchain_community.tools import QuerySQLDatabaseTool\n",
        "\n",
        "query_execute = QuerySQLDatabaseTool(db=db)"
      ],
      "metadata": {
        "id": "zbzusIgsQS9V"
      },
      "execution_count": 16,
      "outputs": []
    },
    {
      "cell_type": "code",
      "source": [
        "query = query_generate.invoke({\"question\": \"Details of all teachers\"})\n",
        "print(query)"
      ],
      "metadata": {
        "id": "op13IuNcQBZs",
        "colab": {
          "base_uri": "https://localhost:8080/"
        },
        "outputId": "3212169d-3501-476a-a035-833250d7c28d"
      },
      "execution_count": 17,
      "outputs": [
        {
          "output_type": "stream",
          "name": "stdout",
          "text": [
            "SELECT \"teacher_id\", \"name\", \"age\" FROM teachers\n"
          ]
        }
      ]
    },
    {
      "cell_type": "code",
      "source": [
        "query_execute.invoke(query)"
      ],
      "metadata": {
        "id": "eW3paynCQWja",
        "colab": {
          "base_uri": "https://localhost:8080/",
          "height": 36
        },
        "outputId": "e1a4db6a-a4d6-4d92-e341-731aab522a10"
      },
      "execution_count": 18,
      "outputs": [
        {
          "output_type": "execute_result",
          "data": {
            "text/plain": [
              "\"[(1, 'Kamal', 42), (2, 'Saman', 29), (3, 'Pawan', 34)]\""
            ],
            "application/vnd.google.colaboratory.intrinsic+json": {
              "type": "string"
            }
          },
          "metadata": {},
          "execution_count": 18
        }
      ]
    },
    {
      "cell_type": "code",
      "source": [
        "query = query_generate.invoke({\"question\": \"Which teachers are assigned to teach Mathematics?\"})\n",
        "print(query)"
      ],
      "metadata": {
        "id": "0V5YQFzKMeRJ",
        "colab": {
          "base_uri": "https://localhost:8080/"
        },
        "outputId": "d2e71452-abbe-4207-de9c-ebdccc0fe312"
      },
      "execution_count": 19,
      "outputs": [
        {
          "output_type": "stream",
          "name": "stdout",
          "text": [
            "SELECT t.name\n",
            "FROM teachers t\n",
            "JOIN teaches te ON t.teacher_id = te.teacher_id\n",
            "JOIN subjects s ON te.subject_id = s.subject_id\n",
            "WHERE s.subject_name = \"Mathematics\"\n",
            "LIMIT 5;\n"
          ]
        }
      ]
    },
    {
      "cell_type": "code",
      "source": [
        "query_execute.invoke(query)"
      ],
      "metadata": {
        "id": "9DoOgm0eNNFX",
        "colab": {
          "base_uri": "https://localhost:8080/",
          "height": 36
        },
        "outputId": "fdb0e6ef-2875-47cb-d555-b451b3453c48"
      },
      "execution_count": 20,
      "outputs": [
        {
          "output_type": "execute_result",
          "data": {
            "text/plain": [
              "\"[('Kamal',)]\""
            ],
            "application/vnd.google.colaboratory.intrinsic+json": {
              "type": "string"
            }
          },
          "metadata": {},
          "execution_count": 20
        }
      ]
    },
    {
      "cell_type": "markdown",
      "source": [
        "### Create Answer Generator Chain"
      ],
      "metadata": {
        "id": "Nia_zmXhAnWJ"
      }
    },
    {
      "cell_type": "code",
      "source": [
        "from operator import itemgetter\n",
        "\n",
        "from langchain_core.output_parsers import StrOutputParser\n",
        "from langchain_core.prompts import PromptTemplate\n",
        "from langchain_core.runnables import RunnablePassthrough\n",
        "\n",
        "answer_prompt = PromptTemplate.from_template(\n",
        "    \"\"\"Given a user question, the generated SQL query, and its result, write a clear and natural answer to the question.\n",
        "\n",
        "    User Question: {question}\n",
        "    SQL Query: {query}\n",
        "    SQL Result: {result}\n",
        "\n",
        "    Final Answer:\"\"\"\n",
        ")\n",
        "\n",
        "final_answer = answer_prompt | llm | StrOutputParser()"
      ],
      "metadata": {
        "id": "CDunyylnRDex"
      },
      "execution_count": 21,
      "outputs": []
    },
    {
      "cell_type": "code",
      "source": [
        "chain = (\n",
        "    RunnablePassthrough.assign(query=query_generate).assign(\n",
        "        result=itemgetter(\"query\") | query_execute\n",
        "    )\n",
        "    | final_answer\n",
        ")"
      ],
      "metadata": {
        "id": "YOoKhFxMRFd9"
      },
      "execution_count": 22,
      "outputs": []
    },
    {
      "cell_type": "code",
      "source": [
        "chain.invoke({\"question\": \"Details of all teachers\"})"
      ],
      "metadata": {
        "id": "155Jbf7aNXSW",
        "colab": {
          "base_uri": "https://localhost:8080/",
          "height": 54
        },
        "outputId": "efd7cd36-b7e5-480c-cc9a-3a0fec6d15e2"
      },
      "execution_count": 23,
      "outputs": [
        {
          "output_type": "execute_result",
          "data": {
            "text/plain": [
              "'Here are the details of all teachers: \\n1. Teacher ID: 1, Name: Kamal, Age: 42\\n2. Teacher ID: 2, Name: Saman, Age: 29\\n3. Teacher ID: 3, Name: Pawan, Age: 34'"
            ],
            "application/vnd.google.colaboratory.intrinsic+json": {
              "type": "string"
            }
          },
          "metadata": {},
          "execution_count": 23
        }
      ]
    },
    {
      "cell_type": "code",
      "source": [
        "chain.invoke({\"question\": \"Which teachers are assigned to teach Mathematics?\"})"
      ],
      "metadata": {
        "id": "QJdJAK9ZRIy6",
        "colab": {
          "base_uri": "https://localhost:8080/",
          "height": 36
        },
        "outputId": "83491c30-fc35-414d-fbb3-86068b297eb7"
      },
      "execution_count": 24,
      "outputs": [
        {
          "output_type": "execute_result",
          "data": {
            "text/plain": [
              "'Kamal is the teacher assigned to teach Mathematics.'"
            ],
            "application/vnd.google.colaboratory.intrinsic+json": {
              "type": "string"
            }
          },
          "metadata": {},
          "execution_count": 24
        }
      ]
    }
  ]
}